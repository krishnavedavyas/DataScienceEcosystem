{
 "cells": [
  {
   "cell_type": "markdown",
   "id": "741e2d1c",
   "metadata": {},
   "source": [
    "# Data Science Tools and Ecosystem"
   ]
  },
  {
   "cell_type": "markdown",
   "id": "18d03d78",
   "metadata": {},
   "source": [
    "In this notebook, Data Science Tools and Ecosystem are summarized."
   ]
  },
  {
   "cell_type": "markdown",
   "id": "902f6e58",
   "metadata": {},
   "source": [
    "Some of the popular languages that Data Scientists use are:\n",
    "|Popular Data Science Languages|\n",
    "-------------------------------------------------\n",
    "|Python|\n",
    "|R|\n",
    "|java script|\n",
    "|Julia|\n",
    "|scala|"
   ]
  },
  {
   "cell_type": "markdown",
   "id": "da72a4df",
   "metadata": {},
   "source": [
    "Some of the commonly used libraries used by Data Scientists include:\n",
    "|libraries used by Data Scientists|\n",
    "------------------------------------------------\n",
    "|NumPy|\n",
    "|MatPlotLib|\n",
    "|Pandas|\n",
    "|Scipy|\n",
    "|Keras|\n",
    "|SciKit-Learn|\n",
    "|PyTorch|\n",
    "|Scrapy|"
   ]
  },
  {
   "cell_type": "markdown",
   "id": "87451fe0",
   "metadata": {},
   "source": [
    "|Data Science Tools|\n",
    "-----------------------------\n",
    "|Jupyter|\n",
    "|R-Studio|\n",
    "|Watson Lab|"
   ]
  },
  {
   "cell_type": "markdown",
   "id": "0426ce7d",
   "metadata": {},
   "source": [
    "### Below are a few examples of evaluating arithmetic expressions in Python"
   ]
  },
  {
   "cell_type": "code",
   "execution_count": 2,
   "id": "4c6b5c37",
   "metadata": {},
   "outputs": [
    {
     "data": {
      "text/plain": [
       "17"
      ]
     },
     "execution_count": 2,
     "metadata": {},
     "output_type": "execute_result"
    }
   ],
   "source": [
    "(3*4)+5\n",
    "#This a simple arithmetic expression to mutiply then add integers."
   ]
  },
  {
   "cell_type": "code",
   "execution_count": 3,
   "id": "075ff910",
   "metadata": {},
   "outputs": [
    {
     "data": {
      "text/plain": [
       "3.3333333333333335"
      ]
     },
     "execution_count": 3,
     "metadata": {},
     "output_type": "execute_result"
    }
   ],
   "source": [
    "200/60\n",
    "#This will convert 200 minutes to hours by diving by 60."
   ]
  },
  {
   "cell_type": "markdown",
   "id": "83d5db33",
   "metadata": {},
   "source": [
    "**Objectives:**\n",
    "**Popular Data Science Languages**\n",
    "- Python\n",
    "- R\n",
    "- Java Script\n",
    "- Julia\n",
    "- Scala"
   ]
  },
  {
   "cell_type": "markdown",
   "id": "5c064235",
   "metadata": {},
   "source": [
    "# Author\n",
    "Krishna vedavyas"
   ]
  }
 ],
 "metadata": {
  "kernelspec": {
   "display_name": "Python 3 (ipykernel)",
   "language": "python",
   "name": "python3"
  },
  "language_info": {
   "codemirror_mode": {
    "name": "ipython",
    "version": 3
   },
   "file_extension": ".py",
   "mimetype": "text/x-python",
   "name": "python",
   "nbconvert_exporter": "python",
   "pygments_lexer": "ipython3",
   "version": "3.11.5"
  }
 },
 "nbformat": 4,
 "nbformat_minor": 5
}
